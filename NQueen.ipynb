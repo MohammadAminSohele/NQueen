{
 "cells": [
  {
   "cell_type": "markdown",
   "metadata": {},
   "source": [
    "### importing Dependencies"
   ]
  },
  {
   "cell_type": "code",
   "execution_count": 1,
   "metadata": {},
   "outputs": [],
   "source": [
    "from random import randint as rnd\n",
    "from random import shuffle"
   ]
  },
  {
   "cell_type": "markdown",
   "metadata": {},
   "source": [
    "### Setting the Probleam and Algorithm Parameters"
   ]
  },
  {
   "cell_type": "code",
   "execution_count": 2,
   "metadata": {},
   "outputs": [],
   "source": [
    "N=4\n",
    "\n",
    "PS=200  # population size\n",
    "\n",
    "MR=0.8 # mutatio Rate\n",
    "\n",
    "EPOCh = 200"
   ]
  },
  {
   "cell_type": "markdown",
   "metadata": {},
   "source": [
    "### Initial Population Function"
   ]
  },
  {
   "cell_type": "code",
   "execution_count": 3,
   "metadata": {},
   "outputs": [],
   "source": [
    "def init_population(n,ps):\n",
    "    Population_list=[]\n",
    "    for i in range(ps):\n",
    "        member=[]\n",
    "        for j in range(n):\n",
    "            member.append(rnd(0,n-1))\n",
    "        Population_list.append(member+[None])\n",
    "    return Population_list"
   ]
  },
  {
   "cell_type": "markdown",
   "metadata": {},
   "source": [
    "### Cross over"
   ]
  },
  {
   "cell_type": "code",
   "execution_count": 4,
   "metadata": {},
   "outputs": [],
   "source": [
    "def cross_over(population_list,n,ps):\n",
    "    for i in range(0,ps,2):\n",
    "        child1=population_list[i][:n//2]+population_list[i+1][n//2:] # +[None]\n",
    "        child2=population_list[i+1][:n//2]+population_list[i][n//2:] # +[None]\n",
    "        population_list.append(child1)\n",
    "        population_list.append(child2)\n",
    "    return population_list\n",
    "        "
   ]
  },
  {
   "cell_type": "markdown",
   "metadata": {},
   "source": [
    "### Mutation"
   ]
  },
  {
   "cell_type": "code",
   "execution_count": 5,
   "metadata": {},
   "outputs": [],
   "source": [
    "def mutation(population_list,n,ps,mr):\n",
    "    choosen_ons=list(range(ps,ps*2))\n",
    "    shuffle(choosen_ons)\n",
    "    choosen_ons=choosen_ons[:int(ps*mr)]\n",
    "\n",
    "    for i in choosen_ons:\n",
    "        cell  = rnd(0,n-1)\n",
    "        value = rnd(0,n-1)\n",
    "        population_list[i][cell]=value\n",
    "\n",
    "    return population_list"
   ]
  },
  {
   "cell_type": "markdown",
   "metadata": {},
   "source": [
    "### Fitness Function"
   ]
  },
  {
   "cell_type": "code",
   "execution_count": 6,
   "metadata": {},
   "outputs": [],
   "source": [
    "def fitness(population_list,n):\n",
    "    length=len(population_list)\n",
    "    for i in range(length):\n",
    "        confilict=0\n",
    "        for j in range(n):\n",
    "            for k in range(j+1,n):\n",
    "                # colums\n",
    "                if population_list[i][j]==population_list[i][k]:\n",
    "                    confilict+=1\n",
    "                # diognal\n",
    "                if abs(j-k)==abs(population_list[i][j]-population_list[i][k]):\n",
    "                    confilict+=1\n",
    "        population_list[i][-1]=confilict\n",
    "    return population_list"
   ]
  },
  {
   "cell_type": "markdown",
   "metadata": {},
   "source": [
    "### Main"
   ]
  },
  {
   "cell_type": "code",
   "execution_count": 25,
   "metadata": {},
   "outputs": [
    {
     "name": "stdout",
     "output_type": "stream",
     "text": [
      "Solution is found in the initial population stage [1, 3, 0, 2, 0]\n"
     ]
    }
   ],
   "source": [
    "current_population=init_population(N,PS)\n",
    "current_population=fitness(current_population,N)\n",
    "current_population=sorted(current_population,key=lambda x:x[-1])\n",
    "if current_population[0][-1]==0:\n",
    "    print('Solution is found in the initial population stage',current_population[0])\n",
    "else:\n",
    "    for i in range(EPOCh):\n",
    "        current_population=init_population(N,PS)\n",
    "        current_population=cross_over(current_population,N,PS)\n",
    "        current_population=mutation(current_population,N,PS,MR)\n",
    "        current_population=fitness(current_population,N)\n",
    "        current_population=sorted(current_population,key=lambda x:x[-1])\n",
    "        current_population=current_population[:PS]\n",
    "        if current_population[0][-1]==0:\n",
    "            print(i+1,'Solution Found',current_population[0])\n",
    "            break\n",
    "        else:\n",
    "            print(i+1,'Best Solution So far:',current_population[0])\n",
    "    else:\n",
    "        print('Sorry,We could not find you a solution')"
   ]
  },
  {
   "cell_type": "markdown",
   "metadata": {},
   "source": [
    "### Test"
   ]
  },
  {
   "cell_type": "code",
   "execution_count": 8,
   "metadata": {},
   "outputs": [
    {
     "name": "stdout",
     "output_type": "stream",
     "text": [
      "[3, 0, 0, 2]\n"
     ]
    }
   ],
   "source": [
    "n=4\n",
    "member=[]\n",
    "for j in range(n):\n",
    "    member.append(rnd(0,n-1))\n",
    "\n",
    "print(member)"
   ]
  },
  {
   "cell_type": "code",
   "execution_count": 9,
   "metadata": {},
   "outputs": [
    {
     "name": "stdout",
     "output_type": "stream",
     "text": [
      "[0, 1, 7, 8, 9]\n",
      "[5, 6, 2, 3, 4]\n"
     ]
    }
   ],
   "source": [
    "n=5\n",
    "\n",
    "p1=[0,1,2,3,4]\n",
    "p2=[5,6,7,8,9]\n",
    "\n",
    "child1=p1[:n//2]+p2[n//2:]\n",
    "child2=p2[:n//2]+p1[n//2:]\n",
    "\n",
    "print(child1)\n",
    "print(child2)"
   ]
  },
  {
   "cell_type": "code",
   "execution_count": 10,
   "metadata": {},
   "outputs": [
    {
     "name": "stdout",
     "output_type": "stream",
     "text": [
      "[200, 201, 202, 203, 204, 205, 206, 207, 208, 209, 210, 211, 212, 213, 214, 215, 216, 217, 218, 219, 220, 221, 222, 223, 224, 225, 226, 227, 228, 229, 230, 231, 232, 233, 234, 235, 236, 237, 238, 239, 240, 241, 242, 243, 244, 245, 246, 247, 248, 249, 250, 251, 252, 253, 254, 255, 256, 257, 258, 259, 260, 261, 262, 263, 264, 265, 266, 267, 268, 269, 270, 271, 272, 273, 274, 275, 276, 277, 278, 279, 280, 281, 282, 283, 284, 285, 286, 287, 288, 289, 290, 291, 292, 293, 294, 295, 296, 297, 298, 299, 300, 301, 302, 303, 304, 305, 306, 307, 308, 309, 310, 311, 312, 313, 314, 315, 316, 317, 318, 319, 320, 321, 322, 323, 324, 325, 326, 327, 328, 329, 330, 331, 332, 333, 334, 335, 336, 337, 338, 339, 340, 341, 342, 343, 344, 345, 346, 347, 348, 349, 350, 351, 352, 353, 354, 355, 356, 357, 358, 359, 360, 361, 362, 363, 364, 365, 366, 367, 368, 369, 370, 371, 372, 373, 374, 375, 376, 377, 378, 379, 380, 381, 382, 383, 384, 385, 386, 387, 388, 389, 390, 391, 392, 393, 394, 395, 396, 397, 398, 399]\n",
      "[233, 220, 321, 216, 203, 235, 211, 258, 293, 256, 307, 296, 347, 399, 334, 340, 287, 378, 222, 304, 394, 389, 357, 250, 386, 372, 207, 289, 234, 255, 249, 358, 254, 240, 325, 373, 261, 316, 248, 383, 317, 327, 227, 362, 259, 393, 212, 342, 348, 370, 343, 238, 219, 320, 225, 237, 361, 209, 230, 215, 352, 241, 390, 295, 310, 306, 344, 298, 264, 280, 245, 346, 391, 260, 308, 292, 323, 350, 300, 286, 276, 314, 290, 297, 353, 275, 336, 375, 380, 332, 331, 265, 243, 252, 312, 369, 371, 324, 247, 253, 213, 322, 208, 333, 354, 366, 288, 266, 302, 341, 210, 351, 268, 204, 278, 355, 379, 218, 395, 200, 313, 284, 301, 377, 384, 349, 270, 309, 356, 319, 330, 221, 345, 392, 291, 267, 337, 318, 273, 396, 239, 205, 364, 359, 232, 246, 201, 381, 329, 335, 272, 326, 387, 242, 339, 223, 376, 397, 303, 281]\n"
     ]
    }
   ],
   "source": [
    "x=list(range(PS,PS*2))\n",
    "\n",
    "print(x)\n",
    "\n",
    "shuffle(x)\n",
    "\n",
    "x=x[:int(PS*MR)]\n",
    "\n",
    "print(x)"
   ]
  },
  {
   "cell_type": "code",
   "execution_count": 11,
   "metadata": {},
   "outputs": [
    {
     "name": "stdout",
     "output_type": "stream",
     "text": [
      "5\n"
     ]
    }
   ],
   "source": [
    "Mylist=[1,2,3,4,5]\n",
    "print(len(Mylist))"
   ]
  },
  {
   "cell_type": "code",
   "execution_count": 12,
   "metadata": {},
   "outputs": [
    {
     "name": "stdout",
     "output_type": "stream",
     "text": [
      "0\n",
      "1\n",
      "2\n",
      "3\n"
     ]
    }
   ],
   "source": [
    "n=4\n",
    "for i in range(n):\n",
    "    print(i)"
   ]
  },
  {
   "cell_type": "code",
   "execution_count": 13,
   "metadata": {},
   "outputs": [
    {
     "name": "stdout",
     "output_type": "stream",
     "text": [
      "j:0,k:1\n",
      "j:0,k:2\n",
      "j:0,k:3\n",
      "j:1,k:2\n",
      "j:1,k:3\n",
      "j:2,k:3\n"
     ]
    }
   ],
   "source": [
    "n=4\n",
    "for j in range(n):\n",
    "    for k in range(j+1,n):\n",
    "        print(f\"j:{j},k:{k}\")"
   ]
  },
  {
   "cell_type": "code",
   "execution_count": 14,
   "metadata": {},
   "outputs": [
    {
     "data": {
      "text/plain": [
       "2.2"
      ]
     },
     "execution_count": 14,
     "metadata": {},
     "output_type": "execute_result"
    }
   ],
   "source": [
    "abs(-2.2)\n",
    "# abs(-5.5)"
   ]
  }
 ],
 "metadata": {
  "kernelspec": {
   "display_name": "Python 3",
   "language": "python",
   "name": "python3"
  },
  "language_info": {
   "codemirror_mode": {
    "name": "ipython",
    "version": 3
   },
   "file_extension": ".py",
   "mimetype": "text/x-python",
   "name": "python",
   "nbconvert_exporter": "python",
   "pygments_lexer": "ipython3",
   "version": "3.13.0"
  }
 },
 "nbformat": 4,
 "nbformat_minor": 2
}
